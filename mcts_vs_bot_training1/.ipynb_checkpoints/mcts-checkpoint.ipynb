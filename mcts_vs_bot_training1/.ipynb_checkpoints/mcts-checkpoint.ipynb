{
 "cells": [
  {
   "cell_type": "code",
   "execution_count": 5,
   "metadata": {},
   "outputs": [
    {
     "name": "stdout",
     "output_type": "stream",
     "text": [
      "DOne wth residul block\n",
      "DOne wth residul block\n",
      "DOne wth residul block\n",
      "INFO:tensorflow:Summary name predict_actions/q_network/q_network/conv2d/kernel:0 is illegal; using predict_actions/q_network/q_network/conv2d/kernel_0 instead.\n",
      "INFO:tensorflow:Summary name predict_actions/q_network/q_network/batch_normalization/beta:0 is illegal; using predict_actions/q_network/q_network/batch_normalization/beta_0 instead.\n",
      "INFO:tensorflow:Summary name predict_actions/q_network/q_network/conv2d_1/kernel:0 is illegal; using predict_actions/q_network/q_network/conv2d_1/kernel_0 instead.\n",
      "INFO:tensorflow:Summary name predict_actions/q_network/q_network/batch_normalization_1/beta:0 is illegal; using predict_actions/q_network/q_network/batch_normalization_1/beta_0 instead.\n",
      "INFO:tensorflow:Summary name predict_actions/q_network/q_network/conv2d_2/kernel:0 is illegal; using predict_actions/q_network/q_network/conv2d_2/kernel_0 instead.\n",
      "INFO:tensorflow:Summary name predict_actions/q_network/q_network/batch_normalization_2/beta:0 is illegal; using predict_actions/q_network/q_network/batch_normalization_2/beta_0 instead.\n",
      "INFO:tensorflow:Summary name predict_actions/q_network/q_network/conv2d_3/kernel:0 is illegal; using predict_actions/q_network/q_network/conv2d_3/kernel_0 instead.\n",
      "INFO:tensorflow:Summary name predict_actions/q_network/q_network/batch_normalization_3/beta:0 is illegal; using predict_actions/q_network/q_network/batch_normalization_3/beta_0 instead.\n",
      "INFO:tensorflow:Summary name predict_actions/q_network/q_network/conv2d_4/kernel:0 is illegal; using predict_actions/q_network/q_network/conv2d_4/kernel_0 instead.\n",
      "INFO:tensorflow:Summary name predict_actions/q_network/q_network/batch_normalization_4/beta:0 is illegal; using predict_actions/q_network/q_network/batch_normalization_4/beta_0 instead.\n",
      "INFO:tensorflow:Summary name predict_actions/q_network/q_network/conv2d_5/kernel:0 is illegal; using predict_actions/q_network/q_network/conv2d_5/kernel_0 instead.\n",
      "INFO:tensorflow:Summary name predict_actions/q_network/q_network/batch_normalization_5/beta:0 is illegal; using predict_actions/q_network/q_network/batch_normalization_5/beta_0 instead.\n",
      "INFO:tensorflow:Summary name predict_actions/q_network/q_network/conv2d_6/kernel:0 is illegal; using predict_actions/q_network/q_network/conv2d_6/kernel_0 instead.\n",
      "INFO:tensorflow:Summary name predict_actions/q_network/q_network/batch_normalization_6/beta:0 is illegal; using predict_actions/q_network/q_network/batch_normalization_6/beta_0 instead.\n",
      "INFO:tensorflow:Summary name predict_actions/q_network/q_network/conv2d_7/kernel:0 is illegal; using predict_actions/q_network/q_network/conv2d_7/kernel_0 instead.\n",
      "INFO:tensorflow:Summary name predict_actions/q_network/q_network/batch_normalization_7/beta:0 is illegal; using predict_actions/q_network/q_network/batch_normalization_7/beta_0 instead.\n",
      "INFO:tensorflow:Summary name predict_actions/q_network/q_network/policy_head/kernel:0 is illegal; using predict_actions/q_network/q_network/policy_head/kernel_0 instead.\n",
      "INFO:tensorflow:Summary name q_network/q_network/Wo:0 is illegal; using q_network/q_network/Wo_0 instead.\n",
      "INFO:tensorflow:Summary name q_network/q_network/Wo:0/gradients is illegal; using q_network/q_network/Wo_0/gradients instead.\n",
      "INFO:tensorflow:Summary name q_network/q_network/bo:0 is illegal; using q_network/q_network/bo_0 instead.\n",
      "INFO:tensorflow:Summary name q_network/q_network/bo:0/gradients is illegal; using q_network/q_network/bo_0/gradients instead.\n",
      "INFO:tensorflow:Summary name predict_actions/q_network/q_network/value_head/kernel:0 is illegal; using predict_actions/q_network/q_network/value_head/kernel_0 instead.\n",
      "INFO:tensorflow:Summary name estimate_future_rewards/q_network/q_network/conv2d_8/kernel:0 is illegal; using estimate_future_rewards/q_network/q_network/conv2d_8/kernel_0 instead.\n",
      "INFO:tensorflow:Summary name estimate_future_rewards/q_network/q_network/batch_normalization_8/beta:0 is illegal; using estimate_future_rewards/q_network/q_network/batch_normalization_8/beta_0 instead.\n",
      "INFO:tensorflow:Summary name estimate_future_rewards/q_network/q_network/conv2d_9/kernel:0 is illegal; using estimate_future_rewards/q_network/q_network/conv2d_9/kernel_0 instead.\n",
      "INFO:tensorflow:Summary name estimate_future_rewards/q_network/q_network/batch_normalization_9/beta:0 is illegal; using estimate_future_rewards/q_network/q_network/batch_normalization_9/beta_0 instead.\n",
      "INFO:tensorflow:Summary name estimate_future_rewards/q_network/q_network/conv2d_10/kernel:0 is illegal; using estimate_future_rewards/q_network/q_network/conv2d_10/kernel_0 instead.\n",
      "INFO:tensorflow:Summary name estimate_future_rewards/q_network/q_network/batch_normalization_10/beta:0 is illegal; using estimate_future_rewards/q_network/q_network/batch_normalization_10/beta_0 instead.\n",
      "INFO:tensorflow:Summary name estimate_future_rewards/q_network/q_network/conv2d_11/kernel:0 is illegal; using estimate_future_rewards/q_network/q_network/conv2d_11/kernel_0 instead.\n",
      "INFO:tensorflow:Summary name estimate_future_rewards/q_network/q_network/batch_normalization_11/beta:0 is illegal; using estimate_future_rewards/q_network/q_network/batch_normalization_11/beta_0 instead.\n",
      "INFO:tensorflow:Summary name estimate_future_rewards/q_network/q_network/conv2d_12/kernel:0 is illegal; using estimate_future_rewards/q_network/q_network/conv2d_12/kernel_0 instead.\n",
      "INFO:tensorflow:Summary name estimate_future_rewards/q_network/q_network/batch_normalization_12/beta:0 is illegal; using estimate_future_rewards/q_network/q_network/batch_normalization_12/beta_0 instead.\n",
      "INFO:tensorflow:Summary name estimate_future_rewards/q_network/q_network/conv2d_13/kernel:0 is illegal; using estimate_future_rewards/q_network/q_network/conv2d_13/kernel_0 instead.\n",
      "INFO:tensorflow:Summary name estimate_future_rewards/q_network/q_network/batch_normalization_13/beta:0 is illegal; using estimate_future_rewards/q_network/q_network/batch_normalization_13/beta_0 instead.\n",
      "INFO:tensorflow:Summary name estimate_future_rewards/q_network/q_network/conv2d_14/kernel:0 is illegal; using estimate_future_rewards/q_network/q_network/conv2d_14/kernel_0 instead.\n",
      "INFO:tensorflow:Summary name estimate_future_rewards/q_network/q_network/batch_normalization_14/beta:0 is illegal; using estimate_future_rewards/q_network/q_network/batch_normalization_14/beta_0 instead.\n",
      "INFO:tensorflow:Summary name estimate_future_rewards/q_network/q_network/conv2d_15/kernel:0 is illegal; using estimate_future_rewards/q_network/q_network/conv2d_15/kernel_0 instead.\n",
      "INFO:tensorflow:Summary name estimate_future_rewards/q_network/q_network/batch_normalization_15/beta:0 is illegal; using estimate_future_rewards/q_network/q_network/batch_normalization_15/beta_0 instead.\n",
      "INFO:tensorflow:Summary name estimate_future_rewards/q_network/q_network/policy_head/kernel:0 is illegal; using estimate_future_rewards/q_network/q_network/policy_head/kernel_0 instead.\n",
      "INFO:tensorflow:Summary name estimate_future_rewards/q_network/q_network/value_head/kernel:0 is illegal; using estimate_future_rewards/q_network/q_network/value_head/kernel_0 instead.\n",
      "INFO:tensorflow:Summary name estimate_future_rewards/target_network/target_network/conv2d_16/kernel:0 is illegal; using estimate_future_rewards/target_network/target_network/conv2d_16/kernel_0 instead.\n",
      "INFO:tensorflow:Summary name estimate_future_rewards/target_network/target_network/batch_normalization_16/beta:0 is illegal; using estimate_future_rewards/target_network/target_network/batch_normalization_16/beta_0 instead.\n",
      "INFO:tensorflow:Summary name estimate_future_rewards/target_network/target_network/conv2d_17/kernel:0 is illegal; using estimate_future_rewards/target_network/target_network/conv2d_17/kernel_0 instead.\n",
      "INFO:tensorflow:Summary name estimate_future_rewards/target_network/target_network/batch_normalization_17/beta:0 is illegal; using estimate_future_rewards/target_network/target_network/batch_normalization_17/beta_0 instead.\n",
      "INFO:tensorflow:Summary name estimate_future_rewards/target_network/target_network/conv2d_18/kernel:0 is illegal; using estimate_future_rewards/target_network/target_network/conv2d_18/kernel_0 instead.\n",
      "INFO:tensorflow:Summary name estimate_future_rewards/target_network/target_network/batch_normalization_18/beta:0 is illegal; using estimate_future_rewards/target_network/target_network/batch_normalization_18/beta_0 instead.\n"
     ]
    },
    {
     "name": "stdout",
     "output_type": "stream",
     "text": [
      "INFO:tensorflow:Summary name estimate_future_rewards/target_network/target_network/conv2d_19/kernel:0 is illegal; using estimate_future_rewards/target_network/target_network/conv2d_19/kernel_0 instead.\n",
      "INFO:tensorflow:Summary name estimate_future_rewards/target_network/target_network/batch_normalization_19/beta:0 is illegal; using estimate_future_rewards/target_network/target_network/batch_normalization_19/beta_0 instead.\n",
      "INFO:tensorflow:Summary name estimate_future_rewards/target_network/target_network/conv2d_20/kernel:0 is illegal; using estimate_future_rewards/target_network/target_network/conv2d_20/kernel_0 instead.\n",
      "INFO:tensorflow:Summary name estimate_future_rewards/target_network/target_network/batch_normalization_20/beta:0 is illegal; using estimate_future_rewards/target_network/target_network/batch_normalization_20/beta_0 instead.\n",
      "INFO:tensorflow:Summary name estimate_future_rewards/target_network/target_network/conv2d_21/kernel:0 is illegal; using estimate_future_rewards/target_network/target_network/conv2d_21/kernel_0 instead.\n",
      "INFO:tensorflow:Summary name estimate_future_rewards/target_network/target_network/batch_normalization_21/beta:0 is illegal; using estimate_future_rewards/target_network/target_network/batch_normalization_21/beta_0 instead.\n",
      "INFO:tensorflow:Summary name estimate_future_rewards/target_network/target_network/conv2d_22/kernel:0 is illegal; using estimate_future_rewards/target_network/target_network/conv2d_22/kernel_0 instead.\n",
      "INFO:tensorflow:Summary name estimate_future_rewards/target_network/target_network/batch_normalization_22/beta:0 is illegal; using estimate_future_rewards/target_network/target_network/batch_normalization_22/beta_0 instead.\n",
      "INFO:tensorflow:Summary name estimate_future_rewards/target_network/target_network/conv2d_23/kernel:0 is illegal; using estimate_future_rewards/target_network/target_network/conv2d_23/kernel_0 instead.\n",
      "INFO:tensorflow:Summary name estimate_future_rewards/target_network/target_network/batch_normalization_23/beta:0 is illegal; using estimate_future_rewards/target_network/target_network/batch_normalization_23/beta_0 instead.\n",
      "INFO:tensorflow:Summary name estimate_future_rewards/target_network/target_network/policy_head/kernel:0 is illegal; using estimate_future_rewards/target_network/target_network/policy_head/kernel_0 instead.\n",
      "INFO:tensorflow:Summary name target_network/target_network/Wo:0 is illegal; using target_network/target_network/Wo_0 instead.\n",
      "INFO:tensorflow:Summary name target_network/target_network/bo:0 is illegal; using target_network/target_network/bo_0 instead.\n",
      "INFO:tensorflow:Summary name estimate_future_rewards/target_network/target_network/value_head/kernel:0 is illegal; using estimate_future_rewards/target_network/target_network/value_head/kernel_0 instead.\n",
      "INFO:tensorflow:Summary name predict_actions_1/q_network/q_network/conv2d_24/kernel:0 is illegal; using predict_actions_1/q_network/q_network/conv2d_24/kernel_0 instead.\n",
      "INFO:tensorflow:Summary name predict_actions_1/q_network/q_network/conv2d_24/kernel:0/gradients is illegal; using predict_actions_1/q_network/q_network/conv2d_24/kernel_0/gradients instead.\n",
      "INFO:tensorflow:Summary name predict_actions_1/q_network/q_network/batch_normalization_24/beta:0 is illegal; using predict_actions_1/q_network/q_network/batch_normalization_24/beta_0 instead.\n",
      "INFO:tensorflow:Summary name predict_actions_1/q_network/q_network/batch_normalization_24/beta:0/gradients is illegal; using predict_actions_1/q_network/q_network/batch_normalization_24/beta_0/gradients instead.\n",
      "INFO:tensorflow:Summary name predict_actions_1/q_network/q_network/conv2d_25/kernel:0 is illegal; using predict_actions_1/q_network/q_network/conv2d_25/kernel_0 instead.\n",
      "INFO:tensorflow:Summary name predict_actions_1/q_network/q_network/conv2d_25/kernel:0/gradients is illegal; using predict_actions_1/q_network/q_network/conv2d_25/kernel_0/gradients instead.\n",
      "INFO:tensorflow:Summary name predict_actions_1/q_network/q_network/batch_normalization_25/beta:0 is illegal; using predict_actions_1/q_network/q_network/batch_normalization_25/beta_0 instead.\n",
      "INFO:tensorflow:Summary name predict_actions_1/q_network/q_network/batch_normalization_25/beta:0/gradients is illegal; using predict_actions_1/q_network/q_network/batch_normalization_25/beta_0/gradients instead.\n",
      "INFO:tensorflow:Summary name predict_actions_1/q_network/q_network/conv2d_26/kernel:0 is illegal; using predict_actions_1/q_network/q_network/conv2d_26/kernel_0 instead.\n",
      "INFO:tensorflow:Summary name predict_actions_1/q_network/q_network/conv2d_26/kernel:0/gradients is illegal; using predict_actions_1/q_network/q_network/conv2d_26/kernel_0/gradients instead.\n",
      "INFO:tensorflow:Summary name predict_actions_1/q_network/q_network/batch_normalization_26/beta:0 is illegal; using predict_actions_1/q_network/q_network/batch_normalization_26/beta_0 instead.\n",
      "INFO:tensorflow:Summary name predict_actions_1/q_network/q_network/batch_normalization_26/beta:0/gradients is illegal; using predict_actions_1/q_network/q_network/batch_normalization_26/beta_0/gradients instead.\n",
      "INFO:tensorflow:Summary name predict_actions_1/q_network/q_network/conv2d_27/kernel:0 is illegal; using predict_actions_1/q_network/q_network/conv2d_27/kernel_0 instead.\n",
      "INFO:tensorflow:Summary name predict_actions_1/q_network/q_network/conv2d_27/kernel:0/gradients is illegal; using predict_actions_1/q_network/q_network/conv2d_27/kernel_0/gradients instead.\n",
      "INFO:tensorflow:Summary name predict_actions_1/q_network/q_network/batch_normalization_27/beta:0 is illegal; using predict_actions_1/q_network/q_network/batch_normalization_27/beta_0 instead.\n",
      "INFO:tensorflow:Summary name predict_actions_1/q_network/q_network/batch_normalization_27/beta:0/gradients is illegal; using predict_actions_1/q_network/q_network/batch_normalization_27/beta_0/gradients instead.\n",
      "INFO:tensorflow:Summary name predict_actions_1/q_network/q_network/conv2d_28/kernel:0 is illegal; using predict_actions_1/q_network/q_network/conv2d_28/kernel_0 instead.\n",
      "INFO:tensorflow:Summary name predict_actions_1/q_network/q_network/conv2d_28/kernel:0/gradients is illegal; using predict_actions_1/q_network/q_network/conv2d_28/kernel_0/gradients instead.\n",
      "INFO:tensorflow:Summary name predict_actions_1/q_network/q_network/batch_normalization_28/beta:0 is illegal; using predict_actions_1/q_network/q_network/batch_normalization_28/beta_0 instead.\n",
      "INFO:tensorflow:Summary name predict_actions_1/q_network/q_network/batch_normalization_28/beta:0/gradients is illegal; using predict_actions_1/q_network/q_network/batch_normalization_28/beta_0/gradients instead.\n",
      "INFO:tensorflow:Summary name predict_actions_1/q_network/q_network/conv2d_29/kernel:0 is illegal; using predict_actions_1/q_network/q_network/conv2d_29/kernel_0 instead.\n",
      "INFO:tensorflow:Summary name predict_actions_1/q_network/q_network/conv2d_29/kernel:0/gradients is illegal; using predict_actions_1/q_network/q_network/conv2d_29/kernel_0/gradients instead.\n",
      "INFO:tensorflow:Summary name predict_actions_1/q_network/q_network/batch_normalization_29/beta:0 is illegal; using predict_actions_1/q_network/q_network/batch_normalization_29/beta_0 instead.\n",
      "INFO:tensorflow:Summary name predict_actions_1/q_network/q_network/batch_normalization_29/beta:0/gradients is illegal; using predict_actions_1/q_network/q_network/batch_normalization_29/beta_0/gradients instead.\n",
      "INFO:tensorflow:Summary name predict_actions_1/q_network/q_network/conv2d_30/kernel:0 is illegal; using predict_actions_1/q_network/q_network/conv2d_30/kernel_0 instead.\n",
      "INFO:tensorflow:Summary name predict_actions_1/q_network/q_network/conv2d_30/kernel:0/gradients is illegal; using predict_actions_1/q_network/q_network/conv2d_30/kernel_0/gradients instead.\n",
      "INFO:tensorflow:Summary name predict_actions_1/q_network/q_network/batch_normalization_30/beta:0 is illegal; using predict_actions_1/q_network/q_network/batch_normalization_30/beta_0 instead.\n",
      "INFO:tensorflow:Summary name predict_actions_1/q_network/q_network/batch_normalization_30/beta:0/gradients is illegal; using predict_actions_1/q_network/q_network/batch_normalization_30/beta_0/gradients instead.\n",
      "INFO:tensorflow:Summary name predict_actions_1/q_network/q_network/conv2d_31/kernel:0 is illegal; using predict_actions_1/q_network/q_network/conv2d_31/kernel_0 instead.\n"
     ]
    },
    {
     "name": "stdout",
     "output_type": "stream",
     "text": [
      "INFO:tensorflow:Summary name predict_actions_1/q_network/q_network/conv2d_31/kernel:0/gradients is illegal; using predict_actions_1/q_network/q_network/conv2d_31/kernel_0/gradients instead.\n",
      "INFO:tensorflow:Summary name predict_actions_1/q_network/q_network/batch_normalization_31/beta:0 is illegal; using predict_actions_1/q_network/q_network/batch_normalization_31/beta_0 instead.\n",
      "INFO:tensorflow:Summary name predict_actions_1/q_network/q_network/batch_normalization_31/beta:0/gradients is illegal; using predict_actions_1/q_network/q_network/batch_normalization_31/beta_0/gradients instead.\n",
      "INFO:tensorflow:Summary name predict_actions_1/q_network/q_network/policy_head/kernel:0 is illegal; using predict_actions_1/q_network/q_network/policy_head/kernel_0 instead.\n",
      "INFO:tensorflow:Summary name predict_actions_1/q_network/q_network/policy_head/kernel:0/gradients is illegal; using predict_actions_1/q_network/q_network/policy_head/kernel_0/gradients instead.\n",
      "INFO:tensorflow:Summary name q_network/q_network/iWo:0 is illegal; using q_network/q_network/iWo_0 instead.\n",
      "INFO:tensorflow:Summary name q_network/q_network/iWo:0/gradients is illegal; using q_network/q_network/iWo_0/gradients instead.\n",
      "INFO:tensorflow:Summary name q_network/q_network/ibo:0 is illegal; using q_network/q_network/ibo_0 instead.\n",
      "INFO:tensorflow:Summary name q_network/q_network/ibo:0/gradients is illegal; using q_network/q_network/ibo_0/gradients instead.\n",
      "INFO:tensorflow:Summary name predict_actions_1/q_network/q_network/value_head/kernel:0 is illegal; using predict_actions_1/q_network/q_network/value_head/kernel_0 instead.\n",
      "INFO:tensorflow:Summary name estimate_future_rewards_1/q_network/q_network/conv2d_32/kernel:0 is illegal; using estimate_future_rewards_1/q_network/q_network/conv2d_32/kernel_0 instead.\n",
      "INFO:tensorflow:Summary name estimate_future_rewards_1/q_network/q_network/batch_normalization_32/beta:0 is illegal; using estimate_future_rewards_1/q_network/q_network/batch_normalization_32/beta_0 instead.\n",
      "INFO:tensorflow:Summary name estimate_future_rewards_1/q_network/q_network/conv2d_33/kernel:0 is illegal; using estimate_future_rewards_1/q_network/q_network/conv2d_33/kernel_0 instead.\n",
      "INFO:tensorflow:Summary name estimate_future_rewards_1/q_network/q_network/batch_normalization_33/beta:0 is illegal; using estimate_future_rewards_1/q_network/q_network/batch_normalization_33/beta_0 instead.\n",
      "INFO:tensorflow:Summary name estimate_future_rewards_1/q_network/q_network/conv2d_34/kernel:0 is illegal; using estimate_future_rewards_1/q_network/q_network/conv2d_34/kernel_0 instead.\n",
      "INFO:tensorflow:Summary name estimate_future_rewards_1/q_network/q_network/batch_normalization_34/beta:0 is illegal; using estimate_future_rewards_1/q_network/q_network/batch_normalization_34/beta_0 instead.\n",
      "INFO:tensorflow:Summary name estimate_future_rewards_1/q_network/q_network/conv2d_35/kernel:0 is illegal; using estimate_future_rewards_1/q_network/q_network/conv2d_35/kernel_0 instead.\n",
      "INFO:tensorflow:Summary name estimate_future_rewards_1/q_network/q_network/batch_normalization_35/beta:0 is illegal; using estimate_future_rewards_1/q_network/q_network/batch_normalization_35/beta_0 instead.\n",
      "INFO:tensorflow:Summary name estimate_future_rewards_1/q_network/q_network/conv2d_36/kernel:0 is illegal; using estimate_future_rewards_1/q_network/q_network/conv2d_36/kernel_0 instead.\n",
      "INFO:tensorflow:Summary name estimate_future_rewards_1/q_network/q_network/batch_normalization_36/beta:0 is illegal; using estimate_future_rewards_1/q_network/q_network/batch_normalization_36/beta_0 instead.\n",
      "INFO:tensorflow:Summary name estimate_future_rewards_1/q_network/q_network/conv2d_37/kernel:0 is illegal; using estimate_future_rewards_1/q_network/q_network/conv2d_37/kernel_0 instead.\n",
      "INFO:tensorflow:Summary name estimate_future_rewards_1/q_network/q_network/batch_normalization_37/beta:0 is illegal; using estimate_future_rewards_1/q_network/q_network/batch_normalization_37/beta_0 instead.\n",
      "INFO:tensorflow:Summary name estimate_future_rewards_1/q_network/q_network/conv2d_38/kernel:0 is illegal; using estimate_future_rewards_1/q_network/q_network/conv2d_38/kernel_0 instead.\n",
      "INFO:tensorflow:Summary name estimate_future_rewards_1/q_network/q_network/batch_normalization_38/beta:0 is illegal; using estimate_future_rewards_1/q_network/q_network/batch_normalization_38/beta_0 instead.\n",
      "INFO:tensorflow:Summary name estimate_future_rewards_1/q_network/q_network/conv2d_39/kernel:0 is illegal; using estimate_future_rewards_1/q_network/q_network/conv2d_39/kernel_0 instead.\n",
      "INFO:tensorflow:Summary name estimate_future_rewards_1/q_network/q_network/batch_normalization_39/beta:0 is illegal; using estimate_future_rewards_1/q_network/q_network/batch_normalization_39/beta_0 instead.\n",
      "INFO:tensorflow:Summary name estimate_future_rewards_1/q_network/q_network/policy_head/kernel:0 is illegal; using estimate_future_rewards_1/q_network/q_network/policy_head/kernel_0 instead.\n",
      "INFO:tensorflow:Summary name estimate_future_rewards_1/q_network/q_network/value_head/kernel:0 is illegal; using estimate_future_rewards_1/q_network/q_network/value_head/kernel_0 instead.\n",
      "INFO:tensorflow:Summary name estimate_future_rewards_1/target_network/target_network/conv2d_40/kernel:0 is illegal; using estimate_future_rewards_1/target_network/target_network/conv2d_40/kernel_0 instead.\n",
      "INFO:tensorflow:Summary name estimate_future_rewards_1/target_network/target_network/conv2d_40/kernel:0/gradients is illegal; using estimate_future_rewards_1/target_network/target_network/conv2d_40/kernel_0/gradients instead.\n",
      "INFO:tensorflow:Summary name estimate_future_rewards_1/target_network/target_network/batch_normalization_40/beta:0 is illegal; using estimate_future_rewards_1/target_network/target_network/batch_normalization_40/beta_0 instead.\n",
      "INFO:tensorflow:Summary name estimate_future_rewards_1/target_network/target_network/batch_normalization_40/beta:0/gradients is illegal; using estimate_future_rewards_1/target_network/target_network/batch_normalization_40/beta_0/gradients instead.\n",
      "INFO:tensorflow:Summary name estimate_future_rewards_1/target_network/target_network/conv2d_41/kernel:0 is illegal; using estimate_future_rewards_1/target_network/target_network/conv2d_41/kernel_0 instead.\n",
      "INFO:tensorflow:Summary name estimate_future_rewards_1/target_network/target_network/conv2d_41/kernel:0/gradients is illegal; using estimate_future_rewards_1/target_network/target_network/conv2d_41/kernel_0/gradients instead.\n",
      "INFO:tensorflow:Summary name estimate_future_rewards_1/target_network/target_network/batch_normalization_41/beta:0 is illegal; using estimate_future_rewards_1/target_network/target_network/batch_normalization_41/beta_0 instead.\n",
      "INFO:tensorflow:Summary name estimate_future_rewards_1/target_network/target_network/batch_normalization_41/beta:0/gradients is illegal; using estimate_future_rewards_1/target_network/target_network/batch_normalization_41/beta_0/gradients instead.\n",
      "INFO:tensorflow:Summary name estimate_future_rewards_1/target_network/target_network/conv2d_42/kernel:0 is illegal; using estimate_future_rewards_1/target_network/target_network/conv2d_42/kernel_0 instead.\n",
      "INFO:tensorflow:Summary name estimate_future_rewards_1/target_network/target_network/conv2d_42/kernel:0/gradients is illegal; using estimate_future_rewards_1/target_network/target_network/conv2d_42/kernel_0/gradients instead.\n",
      "INFO:tensorflow:Summary name estimate_future_rewards_1/target_network/target_network/batch_normalization_42/beta:0 is illegal; using estimate_future_rewards_1/target_network/target_network/batch_normalization_42/beta_0 instead.\n",
      "INFO:tensorflow:Summary name estimate_future_rewards_1/target_network/target_network/batch_normalization_42/beta:0/gradients is illegal; using estimate_future_rewards_1/target_network/target_network/batch_normalization_42/beta_0/gradients instead.\n",
      "INFO:tensorflow:Summary name estimate_future_rewards_1/target_network/target_network/conv2d_43/kernel:0 is illegal; using estimate_future_rewards_1/target_network/target_network/conv2d_43/kernel_0 instead.\n",
      "INFO:tensorflow:Summary name estimate_future_rewards_1/target_network/target_network/conv2d_43/kernel:0/gradients is illegal; using estimate_future_rewards_1/target_network/target_network/conv2d_43/kernel_0/gradients instead.\n"
     ]
    },
    {
     "name": "stdout",
     "output_type": "stream",
     "text": [
      "INFO:tensorflow:Summary name estimate_future_rewards_1/target_network/target_network/batch_normalization_43/beta:0 is illegal; using estimate_future_rewards_1/target_network/target_network/batch_normalization_43/beta_0 instead.\n",
      "INFO:tensorflow:Summary name estimate_future_rewards_1/target_network/target_network/batch_normalization_43/beta:0/gradients is illegal; using estimate_future_rewards_1/target_network/target_network/batch_normalization_43/beta_0/gradients instead.\n",
      "INFO:tensorflow:Summary name estimate_future_rewards_1/target_network/target_network/conv2d_44/kernel:0 is illegal; using estimate_future_rewards_1/target_network/target_network/conv2d_44/kernel_0 instead.\n",
      "INFO:tensorflow:Summary name estimate_future_rewards_1/target_network/target_network/conv2d_44/kernel:0/gradients is illegal; using estimate_future_rewards_1/target_network/target_network/conv2d_44/kernel_0/gradients instead.\n",
      "INFO:tensorflow:Summary name estimate_future_rewards_1/target_network/target_network/batch_normalization_44/beta:0 is illegal; using estimate_future_rewards_1/target_network/target_network/batch_normalization_44/beta_0 instead.\n",
      "INFO:tensorflow:Summary name estimate_future_rewards_1/target_network/target_network/batch_normalization_44/beta:0/gradients is illegal; using estimate_future_rewards_1/target_network/target_network/batch_normalization_44/beta_0/gradients instead.\n",
      "INFO:tensorflow:Summary name estimate_future_rewards_1/target_network/target_network/conv2d_45/kernel:0 is illegal; using estimate_future_rewards_1/target_network/target_network/conv2d_45/kernel_0 instead.\n",
      "INFO:tensorflow:Summary name estimate_future_rewards_1/target_network/target_network/conv2d_45/kernel:0/gradients is illegal; using estimate_future_rewards_1/target_network/target_network/conv2d_45/kernel_0/gradients instead.\n",
      "INFO:tensorflow:Summary name estimate_future_rewards_1/target_network/target_network/batch_normalization_45/beta:0 is illegal; using estimate_future_rewards_1/target_network/target_network/batch_normalization_45/beta_0 instead.\n",
      "INFO:tensorflow:Summary name estimate_future_rewards_1/target_network/target_network/batch_normalization_45/beta:0/gradients is illegal; using estimate_future_rewards_1/target_network/target_network/batch_normalization_45/beta_0/gradients instead.\n",
      "INFO:tensorflow:Summary name estimate_future_rewards_1/target_network/target_network/conv2d_46/kernel:0 is illegal; using estimate_future_rewards_1/target_network/target_network/conv2d_46/kernel_0 instead.\n",
      "INFO:tensorflow:Summary name estimate_future_rewards_1/target_network/target_network/conv2d_46/kernel:0/gradients is illegal; using estimate_future_rewards_1/target_network/target_network/conv2d_46/kernel_0/gradients instead.\n",
      "INFO:tensorflow:Summary name estimate_future_rewards_1/target_network/target_network/batch_normalization_46/beta:0 is illegal; using estimate_future_rewards_1/target_network/target_network/batch_normalization_46/beta_0 instead.\n",
      "INFO:tensorflow:Summary name estimate_future_rewards_1/target_network/target_network/batch_normalization_46/beta:0/gradients is illegal; using estimate_future_rewards_1/target_network/target_network/batch_normalization_46/beta_0/gradients instead.\n",
      "INFO:tensorflow:Summary name estimate_future_rewards_1/target_network/target_network/conv2d_47/kernel:0 is illegal; using estimate_future_rewards_1/target_network/target_network/conv2d_47/kernel_0 instead.\n",
      "INFO:tensorflow:Summary name estimate_future_rewards_1/target_network/target_network/conv2d_47/kernel:0/gradients is illegal; using estimate_future_rewards_1/target_network/target_network/conv2d_47/kernel_0/gradients instead.\n",
      "INFO:tensorflow:Summary name estimate_future_rewards_1/target_network/target_network/batch_normalization_47/beta:0 is illegal; using estimate_future_rewards_1/target_network/target_network/batch_normalization_47/beta_0 instead.\n",
      "INFO:tensorflow:Summary name estimate_future_rewards_1/target_network/target_network/batch_normalization_47/beta:0/gradients is illegal; using estimate_future_rewards_1/target_network/target_network/batch_normalization_47/beta_0/gradients instead.\n",
      "INFO:tensorflow:Summary name estimate_future_rewards_1/target_network/target_network/policy_head/kernel:0 is illegal; using estimate_future_rewards_1/target_network/target_network/policy_head/kernel_0 instead.\n",
      "INFO:tensorflow:Summary name estimate_future_rewards_1/target_network/target_network/policy_head/kernel:0/gradients is illegal; using estimate_future_rewards_1/target_network/target_network/policy_head/kernel_0/gradients instead.\n",
      "INFO:tensorflow:Summary name target_network/target_network/iWo:0 is illegal; using target_network/target_network/iWo_0 instead.\n",
      "INFO:tensorflow:Summary name target_network/target_network/iWo:0/gradients is illegal; using target_network/target_network/iWo_0/gradients instead.\n",
      "INFO:tensorflow:Summary name target_network/target_network/ibo:0 is illegal; using target_network/target_network/ibo_0 instead.\n",
      "INFO:tensorflow:Summary name target_network/target_network/ibo:0/gradients is illegal; using target_network/target_network/ibo_0/gradients instead.\n",
      "INFO:tensorflow:Summary name estimate_future_rewards_1/target_network/target_network/value_head/kernel:0 is illegal; using estimate_future_rewards_1/target_network/target_network/value_head/kernel_0 instead.\n"
     ]
    },
    {
     "ename": "ValueError",
     "evalue": "Variable q_network/q_network/Wo/RMSProp/ already exists, disallowed. Did you mean to set reuse=True or reuse=tf.AUTO_REUSE in VarScope? Originally defined at:\n\n  File \"C:\\Users\\Irfan\\Anaconda3\\lib\\site-packages\\tensorflow\\python\\framework\\ops.py\", line 2005, in __init__\n    self._traceback = tf_stack.extract_stack()\n  File \"C:\\Users\\Irfan\\Anaconda3\\lib\\site-packages\\tensorflow\\python\\framework\\ops.py\", line 3616, in create_op\n    op_def=op_def)\n  File \"C:\\Users\\Irfan\\Anaconda3\\lib\\site-packages\\tensorflow\\python\\util\\deprecation.py\", line 507, in new_func\n    return func(*args, **kwargs)\n  File \"C:\\Users\\Irfan\\Anaconda3\\lib\\site-packages\\tensorflow\\python\\framework\\op_def_library.py\", line 788, in _apply_op_helper\n    op_def=op_def)\n  File \"C:\\Users\\Irfan\\Anaconda3\\lib\\site-packages\\tensorflow\\python\\ops\\gen_state_ops.py\", line 1608, in variable_v2\n    shared_name=shared_name, name=name)\n",
     "output_type": "error",
     "traceback": [
      "\u001b[1;31m---------------------------------------------------------------------------\u001b[0m",
      "\u001b[1;31mValueError\u001b[0m                                Traceback (most recent call last)",
      "\u001b[1;32m<ipython-input-5-ef2d83350812>\u001b[0m in \u001b[0;36m<module>\u001b[1;34m\u001b[0m\n\u001b[0;32m     28\u001b[0m \u001b[0msess1\u001b[0m \u001b[1;33m=\u001b[0m \u001b[0mtf\u001b[0m\u001b[1;33m.\u001b[0m\u001b[0mSession\u001b[0m\u001b[1;33m(\u001b[0m\u001b[1;33m)\u001b[0m\u001b[1;33m\u001b[0m\u001b[1;33m\u001b[0m\u001b[0m\n\u001b[0;32m     29\u001b[0m \u001b[0moptimizer1\u001b[0m \u001b[1;33m=\u001b[0m \u001b[0mtf\u001b[0m\u001b[1;33m.\u001b[0m\u001b[0mtrain\u001b[0m\u001b[1;33m.\u001b[0m\u001b[0mRMSPropOptimizer\u001b[0m\u001b[1;33m(\u001b[0m\u001b[0mlearning_rate\u001b[0m\u001b[1;33m=\u001b[0m\u001b[1;36m0.0001\u001b[0m\u001b[1;33m,\u001b[0m \u001b[0mdecay\u001b[0m\u001b[1;33m=\u001b[0m\u001b[1;36m0.9\u001b[0m\u001b[1;33m)\u001b[0m\u001b[1;33m\u001b[0m\u001b[1;33m\u001b[0m\u001b[0m\n\u001b[1;32m---> 30\u001b[1;33m \u001b[0mb1\u001b[0m\u001b[1;33m=\u001b[0m\u001b[0mDQN_Bot\u001b[0m\u001b[1;33m(\u001b[0m \u001b[0mcreat_network_3d\u001b[0m\u001b[1;33m,\u001b[0m \u001b[0moptimizer1\u001b[0m\u001b[1;33m,\u001b[0m \u001b[0msess1\u001b[0m\u001b[1;33m,\u001b[0m\u001b[0mb1_path\u001b[0m\u001b[1;33m)\u001b[0m\u001b[1;33m\u001b[0m\u001b[1;33m\u001b[0m\u001b[0m\n\u001b[0m\u001b[0;32m     31\u001b[0m \u001b[0menv\u001b[0m \u001b[1;33m=\u001b[0m \u001b[0mchess_env\u001b[0m\u001b[1;33m.\u001b[0m\u001b[0mChessEnv\u001b[0m\u001b[1;33m(\u001b[0m\u001b[1;33m)\u001b[0m\u001b[1;33m\u001b[0m\u001b[1;33m\u001b[0m\u001b[0m\n\u001b[0;32m     32\u001b[0m \u001b[0mb\u001b[0m \u001b[1;33m=\u001b[0m \u001b[0mMCTSPlayer\u001b[0m\u001b[1;33m(\u001b[0m\u001b[0mevaluate\u001b[0m\u001b[1;33m)\u001b[0m\u001b[1;33m\u001b[0m\u001b[1;33m\u001b[0m\u001b[0m\n",
      "\u001b[1;32m~\\Desktop\\chess\\mcts_vs_bot_training\\DQN\\DQN_player.py\u001b[0m in \u001b[0;36m__init__\u001b[1;34m(self, network, optimizer, sess, modelpath)\u001b[0m\n\u001b[0;32m     38\u001b[0m                                  \u001b[0manneal_steps\u001b[0m\u001b[1;33m=\u001b[0m\u001b[1;36m120000\u001b[0m\u001b[1;33m,\u001b[0m  \u001b[1;31m# N steps for annealing exploration\u001b[0m\u001b[1;33m\u001b[0m\u001b[1;33m\u001b[0m\u001b[0m\n\u001b[0;32m     39\u001b[0m                                  \u001b[0mdouble_q_learning\u001b[0m\u001b[1;33m=\u001b[0m\u001b[1;32mTrue\u001b[0m\u001b[1;33m,\u001b[0m\u001b[1;33m\u001b[0m\u001b[1;33m\u001b[0m\u001b[0m\n\u001b[1;32m---> 40\u001b[1;33m                                  discount_factor=0.8)  # no need for discounting #0.8\n\u001b[0m\u001b[0;32m     41\u001b[0m \u001b[1;33m\u001b[0m\u001b[0m\n\u001b[0;32m     42\u001b[0m         \u001b[0mself\u001b[0m\u001b[1;33m.\u001b[0m\u001b[0mmodelpath\u001b[0m \u001b[1;33m=\u001b[0m \u001b[0mmodelpath\u001b[0m\u001b[1;33m\u001b[0m\u001b[1;33m\u001b[0m\u001b[0m\n",
      "\u001b[1;32m~\\Desktop\\chess\\mcts_vs_bot_training\\DQN\\dqn_V.py\u001b[0m in \u001b[0;36m__init__\u001b[1;34m(self, session, optimizer, q_network, state_dim, num_actions, batch_size, init_exp, final_exp, anneal_steps, replay_buffer_size, store_replay_every, discount_factor, target_update_rate, reg_param, max_gradient, double_q_learning, summary_writer, summary_every)\u001b[0m\n\u001b[0;32m     72\u001b[0m \u001b[1;33m\u001b[0m\u001b[0m\n\u001b[0;32m     73\u001b[0m     \u001b[1;31m# create and initialize variables\u001b[0m\u001b[1;33m\u001b[0m\u001b[1;33m\u001b[0m\u001b[1;33m\u001b[0m\u001b[0m\n\u001b[1;32m---> 74\u001b[1;33m     \u001b[0mself\u001b[0m\u001b[1;33m.\u001b[0m\u001b[0mcreate_variables\u001b[0m\u001b[1;33m(\u001b[0m\u001b[1;33m)\u001b[0m\u001b[1;33m\u001b[0m\u001b[1;33m\u001b[0m\u001b[0m\n\u001b[0m\u001b[0;32m     75\u001b[0m     \u001b[0mself\u001b[0m\u001b[1;33m.\u001b[0m\u001b[0mvar_lists\u001b[0m \u001b[1;33m=\u001b[0m \u001b[0mtf\u001b[0m\u001b[1;33m.\u001b[0m\u001b[0mget_collection\u001b[0m\u001b[1;33m(\u001b[0m\u001b[0mtf\u001b[0m\u001b[1;33m.\u001b[0m\u001b[0mGraphKeys\u001b[0m\u001b[1;33m.\u001b[0m\u001b[0mVARIABLES\u001b[0m\u001b[1;33m)\u001b[0m\u001b[1;33m\u001b[0m\u001b[1;33m\u001b[0m\u001b[0m\n\u001b[0;32m     76\u001b[0m     \u001b[0mself\u001b[0m\u001b[1;33m.\u001b[0m\u001b[0msession\u001b[0m\u001b[1;33m.\u001b[0m\u001b[0mrun\u001b[0m\u001b[1;33m(\u001b[0m\u001b[0mtf\u001b[0m\u001b[1;33m.\u001b[0m\u001b[0minitialize_variables\u001b[0m\u001b[1;33m(\u001b[0m\u001b[0mself\u001b[0m\u001b[1;33m.\u001b[0m\u001b[0mvar_lists\u001b[0m\u001b[1;33m)\u001b[0m\u001b[1;33m)\u001b[0m\u001b[1;33m\u001b[0m\u001b[1;33m\u001b[0m\u001b[0m\n",
      "\u001b[1;32m~\\Desktop\\chess\\mcts_vs_bot_training\\DQN\\dqn_V.py\u001b[0m in \u001b[0;36mcreate_variables\u001b[1;34m(self)\u001b[0m\n\u001b[0;32m    161\u001b[0m              \u001b[1;32mif\u001b[0m \u001b[0mgrad\u001b[0m \u001b[1;32mis\u001b[0m \u001b[1;32mnot\u001b[0m \u001b[1;32mNone\u001b[0m\u001b[1;33m:\u001b[0m\u001b[1;33m\u001b[0m\u001b[1;33m\u001b[0m\u001b[0m\n\u001b[0;32m    162\u001b[0m                   \u001b[0mtf\u001b[0m\u001b[1;33m.\u001b[0m\u001b[0msummary\u001b[0m\u001b[1;33m.\u001b[0m\u001b[0mhistogram\u001b[0m\u001b[1;33m(\u001b[0m\u001b[0mvar\u001b[0m\u001b[1;33m.\u001b[0m\u001b[0mname\u001b[0m \u001b[1;33m+\u001b[0m \u001b[1;34m'/gradients'\u001b[0m\u001b[1;33m,\u001b[0m \u001b[0mgrad\u001b[0m\u001b[1;33m)\u001b[0m\u001b[1;33m\u001b[0m\u001b[1;33m\u001b[0m\u001b[0m\n\u001b[1;32m--> 163\u001b[1;33m           \u001b[0mself\u001b[0m\u001b[1;33m.\u001b[0m\u001b[0mtrain_op\u001b[0m \u001b[1;33m=\u001b[0m \u001b[0mself\u001b[0m\u001b[1;33m.\u001b[0m\u001b[0moptimizer\u001b[0m\u001b[1;33m.\u001b[0m\u001b[0mapply_gradients\u001b[0m\u001b[1;33m(\u001b[0m\u001b[0mgradients\u001b[0m\u001b[1;33m)\u001b[0m\u001b[1;33m\u001b[0m\u001b[1;33m\u001b[0m\u001b[0m\n\u001b[0m\u001b[0;32m    164\u001b[0m \u001b[1;33m\u001b[0m\u001b[0m\n\u001b[0;32m    165\u001b[0m     \u001b[1;31m# update target network with Q network\u001b[0m\u001b[1;33m\u001b[0m\u001b[1;33m\u001b[0m\u001b[1;33m\u001b[0m\u001b[0m\n",
      "\u001b[1;32m~\\Anaconda3\\lib\\site-packages\\tensorflow\\python\\training\\optimizer.py\u001b[0m in \u001b[0;36mapply_gradients\u001b[1;34m(self, grads_and_vars, global_step, name)\u001b[0m\n\u001b[0;32m    595\u001b[0m                        ([str(v) for _, v, _ in converted_grads_and_vars],))\n\u001b[0;32m    596\u001b[0m     \u001b[1;32mwith\u001b[0m \u001b[0mops\u001b[0m\u001b[1;33m.\u001b[0m\u001b[0minit_scope\u001b[0m\u001b[1;33m(\u001b[0m\u001b[1;33m)\u001b[0m\u001b[1;33m:\u001b[0m\u001b[1;33m\u001b[0m\u001b[1;33m\u001b[0m\u001b[0m\n\u001b[1;32m--> 597\u001b[1;33m       \u001b[0mself\u001b[0m\u001b[1;33m.\u001b[0m\u001b[0m_create_slots\u001b[0m\u001b[1;33m(\u001b[0m\u001b[0mvar_list\u001b[0m\u001b[1;33m)\u001b[0m\u001b[1;33m\u001b[0m\u001b[1;33m\u001b[0m\u001b[0m\n\u001b[0m\u001b[0;32m    598\u001b[0m     \u001b[0mupdate_ops\u001b[0m \u001b[1;33m=\u001b[0m \u001b[1;33m[\u001b[0m\u001b[1;33m]\u001b[0m\u001b[1;33m\u001b[0m\u001b[1;33m\u001b[0m\u001b[0m\n\u001b[0;32m    599\u001b[0m     \u001b[1;32mwith\u001b[0m \u001b[0mops\u001b[0m\u001b[1;33m.\u001b[0m\u001b[0mname_scope\u001b[0m\u001b[1;33m(\u001b[0m\u001b[0mname\u001b[0m\u001b[1;33m,\u001b[0m \u001b[0mself\u001b[0m\u001b[1;33m.\u001b[0m\u001b[0m_name\u001b[0m\u001b[1;33m)\u001b[0m \u001b[1;32mas\u001b[0m \u001b[0mname\u001b[0m\u001b[1;33m:\u001b[0m\u001b[1;33m\u001b[0m\u001b[1;33m\u001b[0m\u001b[0m\n",
      "\u001b[1;32m~\\Anaconda3\\lib\\site-packages\\tensorflow\\python\\training\\rmsprop.py\u001b[0m in \u001b[0;36m_create_slots\u001b[1;34m(self, var_list)\u001b[0m\n\u001b[0;32m    122\u001b[0m       self._get_or_make_slot_with_initializer(v, init_rms, v.get_shape(),\n\u001b[0;32m    123\u001b[0m                                               \u001b[0mv\u001b[0m\u001b[1;33m.\u001b[0m\u001b[0mdtype\u001b[0m\u001b[1;33m.\u001b[0m\u001b[0mbase_dtype\u001b[0m\u001b[1;33m,\u001b[0m \u001b[1;34m\"rms\"\u001b[0m\u001b[1;33m,\u001b[0m\u001b[1;33m\u001b[0m\u001b[1;33m\u001b[0m\u001b[0m\n\u001b[1;32m--> 124\u001b[1;33m                                               self._name)\n\u001b[0m\u001b[0;32m    125\u001b[0m       \u001b[1;32mif\u001b[0m \u001b[0mself\u001b[0m\u001b[1;33m.\u001b[0m\u001b[0m_centered\u001b[0m\u001b[1;33m:\u001b[0m\u001b[1;33m\u001b[0m\u001b[1;33m\u001b[0m\u001b[0m\n\u001b[0;32m    126\u001b[0m         \u001b[0mself\u001b[0m\u001b[1;33m.\u001b[0m\u001b[0m_zeros_slot\u001b[0m\u001b[1;33m(\u001b[0m\u001b[0mv\u001b[0m\u001b[1;33m,\u001b[0m \u001b[1;34m\"mg\"\u001b[0m\u001b[1;33m,\u001b[0m \u001b[0mself\u001b[0m\u001b[1;33m.\u001b[0m\u001b[0m_name\u001b[0m\u001b[1;33m)\u001b[0m\u001b[1;33m\u001b[0m\u001b[1;33m\u001b[0m\u001b[0m\n",
      "\u001b[1;32m~\\Anaconda3\\lib\\site-packages\\tensorflow\\python\\training\\optimizer.py\u001b[0m in \u001b[0;36m_get_or_make_slot_with_initializer\u001b[1;34m(self, var, initializer, shape, dtype, slot_name, op_name)\u001b[0m\n\u001b[0;32m   1132\u001b[0m     \u001b[1;32mif\u001b[0m \u001b[0m_var_key\u001b[0m\u001b[1;33m(\u001b[0m\u001b[0mvar\u001b[0m\u001b[1;33m)\u001b[0m \u001b[1;32mnot\u001b[0m \u001b[1;32min\u001b[0m \u001b[0mnamed_slots\u001b[0m\u001b[1;33m:\u001b[0m\u001b[1;33m\u001b[0m\u001b[1;33m\u001b[0m\u001b[0m\n\u001b[0;32m   1133\u001b[0m       new_slot_variable = slot_creator.create_slot_with_initializer(\n\u001b[1;32m-> 1134\u001b[1;33m           var, initializer, shape, dtype, op_name)\n\u001b[0m\u001b[0;32m   1135\u001b[0m       self._restore_slot_variable(\n\u001b[0;32m   1136\u001b[0m           \u001b[0mslot_name\u001b[0m\u001b[1;33m=\u001b[0m\u001b[0mslot_name\u001b[0m\u001b[1;33m,\u001b[0m \u001b[0mvariable\u001b[0m\u001b[1;33m=\u001b[0m\u001b[0mvar\u001b[0m\u001b[1;33m,\u001b[0m\u001b[1;33m\u001b[0m\u001b[1;33m\u001b[0m\u001b[0m\n",
      "\u001b[1;32m~\\Anaconda3\\lib\\site-packages\\tensorflow\\python\\training\\slot_creator.py\u001b[0m in \u001b[0;36mcreate_slot_with_initializer\u001b[1;34m(primary, initializer, shape, dtype, name, colocate_with_primary)\u001b[0m\n\u001b[0;32m    162\u001b[0m       \u001b[1;32mwith\u001b[0m \u001b[0mdistribution_strategy\u001b[0m\u001b[1;33m.\u001b[0m\u001b[0mextended\u001b[0m\u001b[1;33m.\u001b[0m\u001b[0mcolocate_vars_with\u001b[0m\u001b[1;33m(\u001b[0m\u001b[0mprimary\u001b[0m\u001b[1;33m)\u001b[0m\u001b[1;33m:\u001b[0m\u001b[1;33m\u001b[0m\u001b[1;33m\u001b[0m\u001b[0m\n\u001b[0;32m    163\u001b[0m         return _create_slot_var(primary, initializer, \"\", validate_shape, shape,\n\u001b[1;32m--> 164\u001b[1;33m                                 dtype)\n\u001b[0m\u001b[0;32m    165\u001b[0m     \u001b[1;32melse\u001b[0m\u001b[1;33m:\u001b[0m\u001b[1;33m\u001b[0m\u001b[1;33m\u001b[0m\u001b[0m\n\u001b[0;32m    166\u001b[0m       return _create_slot_var(primary, initializer, \"\", validate_shape, shape,\n",
      "\u001b[1;32m~\\Anaconda3\\lib\\site-packages\\tensorflow\\python\\training\\slot_creator.py\u001b[0m in \u001b[0;36m_create_slot_var\u001b[1;34m(primary, val, scope, validate_shape, shape, dtype)\u001b[0m\n\u001b[0;32m     72\u001b[0m       \u001b[0mshape\u001b[0m\u001b[1;33m=\u001b[0m\u001b[0mshape\u001b[0m\u001b[1;33m,\u001b[0m\u001b[1;33m\u001b[0m\u001b[1;33m\u001b[0m\u001b[0m\n\u001b[0;32m     73\u001b[0m       \u001b[0mdtype\u001b[0m\u001b[1;33m=\u001b[0m\u001b[0mdtype\u001b[0m\u001b[1;33m,\u001b[0m\u001b[1;33m\u001b[0m\u001b[1;33m\u001b[0m\u001b[0m\n\u001b[1;32m---> 74\u001b[1;33m       validate_shape=validate_shape)\n\u001b[0m\u001b[0;32m     75\u001b[0m   \u001b[0mvariable_scope\u001b[0m\u001b[1;33m.\u001b[0m\u001b[0mget_variable_scope\u001b[0m\u001b[1;33m(\u001b[0m\u001b[1;33m)\u001b[0m\u001b[1;33m.\u001b[0m\u001b[0mset_partitioner\u001b[0m\u001b[1;33m(\u001b[0m\u001b[0mcurrent_partitioner\u001b[0m\u001b[1;33m)\u001b[0m\u001b[1;33m\u001b[0m\u001b[1;33m\u001b[0m\u001b[0m\n\u001b[0;32m     76\u001b[0m \u001b[1;33m\u001b[0m\u001b[0m\n",
      "\u001b[1;32m~\\Anaconda3\\lib\\site-packages\\tensorflow\\python\\ops\\variable_scope.py\u001b[0m in \u001b[0;36mget_variable\u001b[1;34m(name, shape, dtype, initializer, regularizer, trainable, collections, caching_device, partitioner, validate_shape, use_resource, custom_getter, constraint, synchronization, aggregation)\u001b[0m\n\u001b[0;32m   1494\u001b[0m       \u001b[0mconstraint\u001b[0m\u001b[1;33m=\u001b[0m\u001b[0mconstraint\u001b[0m\u001b[1;33m,\u001b[0m\u001b[1;33m\u001b[0m\u001b[1;33m\u001b[0m\u001b[0m\n\u001b[0;32m   1495\u001b[0m       \u001b[0msynchronization\u001b[0m\u001b[1;33m=\u001b[0m\u001b[0msynchronization\u001b[0m\u001b[1;33m,\u001b[0m\u001b[1;33m\u001b[0m\u001b[1;33m\u001b[0m\u001b[0m\n\u001b[1;32m-> 1496\u001b[1;33m       aggregation=aggregation)\n\u001b[0m\u001b[0;32m   1497\u001b[0m \u001b[1;33m\u001b[0m\u001b[0m\n\u001b[0;32m   1498\u001b[0m \u001b[1;33m\u001b[0m\u001b[0m\n",
      "\u001b[1;32m~\\Anaconda3\\lib\\site-packages\\tensorflow\\python\\ops\\variable_scope.py\u001b[0m in \u001b[0;36mget_variable\u001b[1;34m(self, var_store, name, shape, dtype, initializer, regularizer, reuse, trainable, collections, caching_device, partitioner, validate_shape, use_resource, custom_getter, constraint, synchronization, aggregation)\u001b[0m\n\u001b[0;32m   1237\u001b[0m           \u001b[0mconstraint\u001b[0m\u001b[1;33m=\u001b[0m\u001b[0mconstraint\u001b[0m\u001b[1;33m,\u001b[0m\u001b[1;33m\u001b[0m\u001b[1;33m\u001b[0m\u001b[0m\n\u001b[0;32m   1238\u001b[0m           \u001b[0msynchronization\u001b[0m\u001b[1;33m=\u001b[0m\u001b[0msynchronization\u001b[0m\u001b[1;33m,\u001b[0m\u001b[1;33m\u001b[0m\u001b[1;33m\u001b[0m\u001b[0m\n\u001b[1;32m-> 1239\u001b[1;33m           aggregation=aggregation)\n\u001b[0m\u001b[0;32m   1240\u001b[0m \u001b[1;33m\u001b[0m\u001b[0m\n\u001b[0;32m   1241\u001b[0m   def _get_partitioned_variable(self,\n",
      "\u001b[1;32m~\\Anaconda3\\lib\\site-packages\\tensorflow\\python\\ops\\variable_scope.py\u001b[0m in \u001b[0;36mget_variable\u001b[1;34m(self, name, shape, dtype, initializer, regularizer, reuse, trainable, collections, caching_device, partitioner, validate_shape, use_resource, custom_getter, constraint, synchronization, aggregation)\u001b[0m\n\u001b[0;32m    560\u001b[0m           \u001b[0mconstraint\u001b[0m\u001b[1;33m=\u001b[0m\u001b[0mconstraint\u001b[0m\u001b[1;33m,\u001b[0m\u001b[1;33m\u001b[0m\u001b[1;33m\u001b[0m\u001b[0m\n\u001b[0;32m    561\u001b[0m           \u001b[0msynchronization\u001b[0m\u001b[1;33m=\u001b[0m\u001b[0msynchronization\u001b[0m\u001b[1;33m,\u001b[0m\u001b[1;33m\u001b[0m\u001b[1;33m\u001b[0m\u001b[0m\n\u001b[1;32m--> 562\u001b[1;33m           aggregation=aggregation)\n\u001b[0m\u001b[0;32m    563\u001b[0m \u001b[1;33m\u001b[0m\u001b[0m\n\u001b[0;32m    564\u001b[0m   def _get_partitioned_variable(self,\n",
      "\u001b[1;32m~\\Anaconda3\\lib\\site-packages\\tensorflow\\python\\ops\\variable_scope.py\u001b[0m in \u001b[0;36m_true_getter\u001b[1;34m(name, shape, dtype, initializer, regularizer, reuse, trainable, collections, caching_device, partitioner, validate_shape, use_resource, constraint, synchronization, aggregation)\u001b[0m\n\u001b[0;32m    512\u001b[0m           \u001b[0mconstraint\u001b[0m\u001b[1;33m=\u001b[0m\u001b[0mconstraint\u001b[0m\u001b[1;33m,\u001b[0m\u001b[1;33m\u001b[0m\u001b[1;33m\u001b[0m\u001b[0m\n\u001b[0;32m    513\u001b[0m           \u001b[0msynchronization\u001b[0m\u001b[1;33m=\u001b[0m\u001b[0msynchronization\u001b[0m\u001b[1;33m,\u001b[0m\u001b[1;33m\u001b[0m\u001b[1;33m\u001b[0m\u001b[0m\n\u001b[1;32m--> 514\u001b[1;33m           aggregation=aggregation)\n\u001b[0m\u001b[0;32m    515\u001b[0m \u001b[1;33m\u001b[0m\u001b[0m\n\u001b[0;32m    516\u001b[0m     synchronization, aggregation, trainable = (\n",
      "\u001b[1;32m~\\Anaconda3\\lib\\site-packages\\tensorflow\\python\\ops\\variable_scope.py\u001b[0m in \u001b[0;36m_get_single_variable\u001b[1;34m(self, name, shape, dtype, initializer, regularizer, partition_info, reuse, trainable, collections, caching_device, validate_shape, use_resource, constraint, synchronization, aggregation)\u001b[0m\n\u001b[0;32m    862\u001b[0m         \u001b[0mtb\u001b[0m \u001b[1;33m=\u001b[0m \u001b[1;33m[\u001b[0m\u001b[0mx\u001b[0m \u001b[1;32mfor\u001b[0m \u001b[0mx\u001b[0m \u001b[1;32min\u001b[0m \u001b[0mtb\u001b[0m \u001b[1;32mif\u001b[0m \u001b[1;34m\"tensorflow/python\"\u001b[0m \u001b[1;32mnot\u001b[0m \u001b[1;32min\u001b[0m \u001b[0mx\u001b[0m\u001b[1;33m[\u001b[0m\u001b[1;36m0\u001b[0m\u001b[1;33m]\u001b[0m\u001b[1;33m]\u001b[0m\u001b[1;33m[\u001b[0m\u001b[1;33m:\u001b[0m\u001b[1;36m5\u001b[0m\u001b[1;33m]\u001b[0m\u001b[1;33m\u001b[0m\u001b[1;33m\u001b[0m\u001b[0m\n\u001b[0;32m    863\u001b[0m         raise ValueError(\"%s Originally defined at:\\n\\n%s\" %\n\u001b[1;32m--> 864\u001b[1;33m                          (err_msg, \"\".join(traceback.format_list(tb))))\n\u001b[0m\u001b[0;32m    865\u001b[0m       \u001b[0mfound_var\u001b[0m \u001b[1;33m=\u001b[0m \u001b[0mself\u001b[0m\u001b[1;33m.\u001b[0m\u001b[0m_vars\u001b[0m\u001b[1;33m[\u001b[0m\u001b[0mname\u001b[0m\u001b[1;33m]\u001b[0m\u001b[1;33m\u001b[0m\u001b[1;33m\u001b[0m\u001b[0m\n\u001b[0;32m    866\u001b[0m       \u001b[1;32mif\u001b[0m \u001b[1;32mnot\u001b[0m \u001b[0mshape\u001b[0m\u001b[1;33m.\u001b[0m\u001b[0mis_compatible_with\u001b[0m\u001b[1;33m(\u001b[0m\u001b[0mfound_var\u001b[0m\u001b[1;33m.\u001b[0m\u001b[0mget_shape\u001b[0m\u001b[1;33m(\u001b[0m\u001b[1;33m)\u001b[0m\u001b[1;33m)\u001b[0m\u001b[1;33m:\u001b[0m\u001b[1;33m\u001b[0m\u001b[1;33m\u001b[0m\u001b[0m\n",
      "\u001b[1;31mValueError\u001b[0m: Variable q_network/q_network/Wo/RMSProp/ already exists, disallowed. Did you mean to set reuse=True or reuse=tf.AUTO_REUSE in VarScope? Originally defined at:\n\n  File \"C:\\Users\\Irfan\\Anaconda3\\lib\\site-packages\\tensorflow\\python\\framework\\ops.py\", line 2005, in __init__\n    self._traceback = tf_stack.extract_stack()\n  File \"C:\\Users\\Irfan\\Anaconda3\\lib\\site-packages\\tensorflow\\python\\framework\\ops.py\", line 3616, in create_op\n    op_def=op_def)\n  File \"C:\\Users\\Irfan\\Anaconda3\\lib\\site-packages\\tensorflow\\python\\util\\deprecation.py\", line 507, in new_func\n    return func(*args, **kwargs)\n  File \"C:\\Users\\Irfan\\Anaconda3\\lib\\site-packages\\tensorflow\\python\\framework\\op_def_library.py\", line 788, in _apply_op_helper\n    op_def=op_def)\n  File \"C:\\Users\\Irfan\\Anaconda3\\lib\\site-packages\\tensorflow\\python\\ops\\gen_state_ops.py\", line 1608, in variable_v2\n    shared_name=shared_name, name=name)\n"
     ]
    }
   ],
   "source": [
    "import env.chess_env as chess_env\n",
    "from DQN.net_function_tf_k  import creat_network_3d\n",
    "from DQN.DQN_player import DQN_Bot\n",
    "import os \n",
    "import tensorflow as tf\n",
    "from DQN.dqn_V import DeepQNetwork\n",
    "from mcts import MCTSPlayer, evaluate\n",
    "\n",
    "def choose_random_moves(moves: list) -> str:\n",
    "    return random.choice(moves)\n",
    "def choose_move(possible_moves: list) -> str:\n",
    "        return choose_random_moves(possible_moves)\n",
    "def play_bot_to_bot(env, player1, player2):\n",
    "   \"\"\"white is player1\n",
    "    black is player2\"\"\"\n",
    "   while env.board.result() == \"*\":\n",
    "#        print(env.board)\n",
    "        if env.white_to_move:\n",
    "            action = player1.choose_move(env)\n",
    "        else:\n",
    "            action = player2.choose_move(env)\n",
    "training_episodes = 200000\n",
    "game_draw=White=Black=0\n",
    "cent_episode = []\n",
    "b1_path= \"models/b1_ckpts_at\" + str(training_episodes) + \"steps/\"\n",
    "if not os.path.exists(b1_path) :\n",
    "    os.mkdir(b1_path)\n",
    "sess1 = tf.Session()\n",
    "optimizer1 = tf.train.RMSPropOptimizer(learning_rate=0.0001, decay=0.9)\n",
    "b1=DQN_Bot( creat_network_3d, optimizer1, sess1,b1_path)\n",
    "env = chess_env.ChessEnv()\n",
    "b = MCTSPlayer(evaluate)\n",
    "action, probs = b.get_action(env, b1)\n"
   ]
  },
  {
   "cell_type": "code",
   "execution_count": 2,
   "metadata": {},
   "outputs": [
    {
     "data": {
      "text/plain": [
       "('b2b3', array([1.00000000e+00, 2.81405675e-73, 0.00000000e+00, 0.00000000e+00,\n",
       "        0.00000000e+00, 0.00000000e+00, 0.00000000e+00, 0.00000000e+00,\n",
       "        0.00000000e+00, 0.00000000e+00, 0.00000000e+00, 0.00000000e+00,\n",
       "        0.00000000e+00, 0.00000000e+00, 0.00000000e+00, 0.00000000e+00,\n",
       "        0.00000000e+00, 0.00000000e+00, 0.00000000e+00, 0.00000000e+00]))"
      ]
     },
     "execution_count": 2,
     "metadata": {},
     "output_type": "execute_result"
    }
   ],
   "source": [
    "action, probs "
   ]
  },
  {
   "cell_type": "code",
   "execution_count": 3,
   "metadata": {},
   "outputs": [
    {
     "name": "stdout",
     "output_type": "stream",
     "text": [
      "[0.0, 0.0, 0.0, 0.0, 0.0, 0.0, 0.0, 0.0, 0.0, 0.0, 0.0, 0.0, 0.0, 0.0, 0.0, 0.0, 0.0, 0.0, 0.0, 0.0, 0.0, 0.0, 0.0, 0.0, 0.0, 0.0, 0.0, 0.0, 0.0, 0.0, 0.0, 0.0, 0.0, 0.0, 0.0, 0.0, 0.0, 0.0, 0.0, 0.0, 0.0, 0.0, 0.0, 0.0, 0.0, 0.0, 0.0, 0.0, 0.0, 0.0, 0.0, 0.0, 0.0, 0.0, 0.0, 0.0, 0.0, 0.0, 0.0, 0.0, 0.0, 0.0, 0.0, 0.0]\n",
      "('g1h3', 'f2f4', 'g2g4', 'a2a4', 'h2h3', 'g2g3', 'e2e3', 'b1c3', 'c2c4', 'c2c3', 'd2d3', 'b1a3', 'b2b4', 'h2h4', 'f2f3', 'e2e4', 'd2d4', 'g1f3', 'a2a3', 'b2b3')\n",
      "[1.00000000e+00 2.81405675e-73 0.00000000e+00 0.00000000e+00\n",
      " 0.00000000e+00 0.00000000e+00 0.00000000e+00 0.00000000e+00\n",
      " 0.00000000e+00 0.00000000e+00 0.00000000e+00 0.00000000e+00\n",
      " 0.00000000e+00 0.00000000e+00 0.00000000e+00 0.00000000e+00\n",
      " 0.00000000e+00 0.00000000e+00 0.00000000e+00 0.00000000e+00]\n",
      "if%%%%%\n"
     ]
    }
   ],
   "source": [
    "b = MCTSPlayer(evaluate)\n",
    "action, probs = b.get_action(env, b1)"
   ]
  },
  {
   "cell_type": "code",
   "execution_count": 4,
   "metadata": {},
   "outputs": [
    {
     "data": {
      "text/plain": [
       "('g1h3', array([1.00000000e+00, 2.81405675e-73, 0.00000000e+00, 0.00000000e+00,\n",
       "        0.00000000e+00, 0.00000000e+00, 0.00000000e+00, 0.00000000e+00,\n",
       "        0.00000000e+00, 0.00000000e+00, 0.00000000e+00, 0.00000000e+00,\n",
       "        0.00000000e+00, 0.00000000e+00, 0.00000000e+00, 0.00000000e+00,\n",
       "        0.00000000e+00, 0.00000000e+00, 0.00000000e+00, 0.00000000e+00]))"
      ]
     },
     "execution_count": 4,
     "metadata": {},
     "output_type": "execute_result"
    }
   ],
   "source": [
    "action, probs"
   ]
  },
  {
   "cell_type": "code",
   "execution_count": null,
   "metadata": {},
   "outputs": [],
   "source": []
  }
 ],
 "metadata": {
  "kernelspec": {
   "display_name": "Python 3",
   "language": "python",
   "name": "python3"
  },
  "language_info": {
   "codemirror_mode": {
    "name": "ipython",
    "version": 3
   },
   "file_extension": ".py",
   "mimetype": "text/x-python",
   "name": "python",
   "nbconvert_exporter": "python",
   "pygments_lexer": "ipython3",
   "version": "3.7.3"
  }
 },
 "nbformat": 4,
 "nbformat_minor": 2
}
